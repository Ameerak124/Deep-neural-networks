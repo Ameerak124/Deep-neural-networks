{
 "cells": [
  {
   "cell_type": "code",
   "execution_count": 1,
   "metadata": {},
   "outputs": [],
   "source": [
    "import numpy as np\n",
    "x = np.array(\n",
    "    [[0,0,1],\n",
    "     [0,1,1],\n",
    "     [1,0,1],\n",
    "     [1,1,1],\n",
    "     [1,0,1],\n",
    "    \n",
    "    [1,1,1]])\n",
    "y=np.array([[0],\n",
    "           [1],\n",
    "           [1],\n",
    "           [0],\n",
    "           [1],\n",
    "           [0]])\n",
    "def sigmoid(x):\n",
    "    return 1/(1+np.exp(-x))\n",
    "def derivate(x):\n",
    "    return x*(1-x)\n",
    "def mse(y,ycap):\n",
    "    return ((y-ycap)**2).mean()\n",
    "np.random.seed(101)\n",
    "w1 = 2*np.random.random((3,5))-1\n",
    "w2 = 2*np.random.random((5,7))-1\n",
    "w3 = 2*np.random.random((7,5))-1\n",
    "w4 = 2*np.random.random((5,1))-1\n",
    "def train(x,y,w,iter,conv=0.00000001):\n",
    "    W1 = w[0]\n",
    "    W2 = w[1]\n",
    "    W3 = w[2]\n",
    "    W4 = w[3]\n",
    "    \n",
    "    perr = 0 \n",
    "    \n",
    "    for i in range(iter):\n",
    "        l1 = sigmoid(x.dot(W1))\n",
    "        l2 = sigmoid(l1.dot(W2))\n",
    "        l3 = sigmoid(l2.dot(W3))\n",
    "        l4 = sigmoid(l3.dot(W4))\n",
    "        \n",
    "        cerr = mse(y,l4)\n",
    "        \n",
    "        if i%250==0:\n",
    "            print(\"current error for every 250 iters\",cerr)\n",
    "        \n",
    "        diff = abs(perr-cerr)\n",
    "        \n",
    "        j=0\n",
    "        if diff<=conv:\n",
    "            print(\"Training completed\", i+1 ,\"iters\")\n",
    "            j=1\n",
    "            break \n",
    "            \n",
    "        \n",
    "        e4 = y - l4\n",
    "        delta4 = e4*derivate(l4)\n",
    "        e3 = delta4.dot(W4.T)\n",
    "        delta3 = e3*derivate(l3)\n",
    "        e2 = delta3.dot(W3.T)\n",
    "        delta2 = e2*derivate(l2)\n",
    "        e1 = delta2.dot(W2.T)\n",
    "        delta1 = e1*derivate(l1)\n",
    "        W1 += x.T.dot(delta1)\n",
    "        W2 += l1.T.dot(delta2)\n",
    "        W3 += l2.T.dot(delta3)\n",
    "        W4 += l3.T.dot(delta4)\n",
    "        perr=cerr\n",
    "    if j==0:\n",
    "        print(\"Training not yet completed\")\n",
    "    return [W1,W2,W3,W4]\n"
   ]
  },
  {
   "cell_type": "code",
   "execution_count": 2,
   "metadata": {},
   "outputs": [
    {
     "name": "stdout",
     "output_type": "stream",
     "text": [
      "current error for every 250 iters 0.2686089992882632\n",
      "current error for every 250 iters 0.15941616879252862\n",
      "current error for every 250 iters 0.12713600005857492\n",
      "current error for every 250 iters 0.01222315546330645\n",
      "current error for every 250 iters 0.001983824152421466\n",
      "current error for every 250 iters 0.0009083194419106233\n",
      "current error for every 250 iters 0.0005501558663063793\n",
      "current error for every 250 iters 0.0003814480738743695\n",
      "current error for every 250 iters 0.0002863818028939857\n",
      "current error for every 250 iters 0.00022652427857625232\n",
      "current error for every 250 iters 0.000185873980619259\n",
      "current error for every 250 iters 0.00015671140570238737\n",
      "current error for every 250 iters 0.00013490276297571077\n",
      "current error for every 250 iters 0.00011805448026099366\n",
      "current error for every 250 iters 0.00010469372854521265\n",
      "current error for every 250 iters 9.386901053379987e-05\n",
      "current error for every 250 iters 8.49406092612397e-05\n",
      "current error for every 250 iters 7.746387117287474e-05\n",
      "current error for every 250 iters 7.11208915339843e-05\n",
      "current error for every 250 iters 6.5678822351496e-05\n",
      "current error for every 250 iters 6.096350168774538e-05\n",
      "current error for every 250 iters 5.684224994178795e-05\n",
      "current error for every 250 iters 5.3212339012100766e-05\n",
      "current error for every 250 iters 4.9993077408497676e-05\n",
      "current error for every 250 iters 4.712026122948384e-05\n",
      "Training completed 6199 iters\n"
     ]
    }
   ],
   "source": [
    "theta = train(x,y,[w1,w2,w3,w4],10000)"
   ]
  },
  {
   "cell_type": "code",
   "execution_count": 3,
   "metadata": {},
   "outputs": [
    {
     "name": "stdout",
     "output_type": "stream",
     "text": [
      "[[-1.79160702  3.36228665 -4.15277106 -1.1135678   2.04606174]\n",
      " [ 2.31550669 -2.71548858  4.07476616  0.06365725 -2.49872364]\n",
      " [ 0.72956785  0.9338406   1.01510335  0.98196087  1.0888418 ]]\n"
     ]
    }
   ],
   "source": [
    "print(w1)"
   ]
  },
  {
   "cell_type": "code",
   "execution_count": 4,
   "metadata": {},
   "outputs": [
    {
     "data": {
      "text/plain": [
       "array([[-1.79160702,  3.36228665, -4.15277106, -1.1135678 ,  2.04606174],\n",
       "       [ 2.31550669, -2.71548858,  4.07476616,  0.06365725, -2.49872364],\n",
       "       [ 0.72956785,  0.9338406 ,  1.01510335,  0.98196087,  1.0888418 ]])"
      ]
     },
     "execution_count": 4,
     "metadata": {},
     "output_type": "execute_result"
    }
   ],
   "source": [
    "theta[0]"
   ]
  },
  {
   "cell_type": "code",
   "execution_count": 13,
   "metadata": {},
   "outputs": [],
   "source": [
    "def predict(x,w):\n",
    "    r=x\n",
    "    for v in w:\n",
    "        r = sigmoid(r.dot(v))\n",
    "    return r "
   ]
  },
  {
   "cell_type": "code",
   "execution_count": 21,
   "metadata": {},
   "outputs": [],
   "source": [
    "ycap = predict(x,theta)"
   ]
  },
  {
   "cell_type": "code",
   "execution_count": 22,
   "metadata": {},
   "outputs": [
    {
     "data": {
      "text/plain": [
       "6"
      ]
     },
     "execution_count": 22,
     "metadata": {},
     "output_type": "execute_result"
    }
   ],
   "source": [
    "len(k)"
   ]
  },
  {
   "cell_type": "code",
   "execution_count": 23,
   "metadata": {},
   "outputs": [
    {
     "data": {
      "text/plain": [
       "array([[0.00676432],\n",
       "       [0.98797447],\n",
       "       [0.99583239],\n",
       "       [0.00475557],\n",
       "       [0.99583239],\n",
       "       [0.00475557]])"
      ]
     },
     "execution_count": 23,
     "metadata": {},
     "output_type": "execute_result"
    }
   ],
   "source": [
    "k"
   ]
  },
  {
   "cell_type": "code",
   "execution_count": 25,
   "metadata": {},
   "outputs": [
    {
     "name": "stdout",
     "output_type": "stream",
     "text": [
      "[[0.         0.00676432]\n",
      " [1.         0.98797447]\n",
      " [1.         0.99583239]\n",
      " [0.         0.00475557]\n",
      " [1.         0.99583239]\n",
      " [0.         0.00475557]]\n"
     ]
    }
   ],
   "source": [
    "# its time to compare the machine predicted values and actual values\n",
    "# y vs ycap\n",
    "\n",
    "print(np.c_[y.ravel(),ycap.ravel()])"
   ]
  },
  {
   "cell_type": "code",
   "execution_count": 26,
   "metadata": {},
   "outputs": [],
   "source": [
    "# since our values are in probalities ,so we need to convert them in to labels\n",
    "ycap[ycap>0.5]=1\n",
    "ycap[ycap<0.5]=0"
   ]
  },
  {
   "cell_type": "code",
   "execution_count": 27,
   "metadata": {},
   "outputs": [
    {
     "data": {
      "text/plain": [
       "array([[0.],\n",
       "       [1.],\n",
       "       [1.],\n",
       "       [0.],\n",
       "       [1.],\n",
       "       [0.]])"
      ]
     },
     "execution_count": 27,
     "metadata": {},
     "output_type": "execute_result"
    }
   ],
   "source": [
    "ycap"
   ]
  },
  {
   "cell_type": "code",
   "execution_count": 29,
   "metadata": {},
   "outputs": [
    {
     "name": "stdout",
     "output_type": "stream",
     "text": [
      "[[0. 0.]\n",
      " [1. 1.]\n",
      " [1. 1.]\n",
      " [0. 0.]\n",
      " [1. 1.]\n",
      " [0. 0.]]\n"
     ]
    }
   ],
   "source": [
    "print(np.c_[y.ravel(),ycap.ravel()])"
   ]
  },
  {
   "cell_type": "code",
   "execution_count": 34,
   "metadata": {},
   "outputs": [],
   "source": [
    "# NOW to validate our results we need to write accuracy function\n",
    "\n",
    "def accuracy(y,ycap):\n",
    "    r= y==ycap\n",
    "    correctly_predicted =r[r==True].size\n",
    "    n=y.size\n",
    "    return (correctly_predicted/n)*100"
   ]
  },
  {
   "cell_type": "code",
   "execution_count": 35,
   "metadata": {},
   "outputs": [
    {
     "data": {
      "text/plain": [
       "100.0"
      ]
     },
     "execution_count": 35,
     "metadata": {},
     "output_type": "execute_result"
    }
   ],
   "source": [
    "accuracy(y,ycap)"
   ]
  },
  {
   "cell_type": "code",
   "execution_count": null,
   "metadata": {},
   "outputs": [],
   "source": []
  }
 ],
 "metadata": {
  "kernelspec": {
   "display_name": "Python 3",
   "language": "python",
   "name": "python3"
  },
  "language_info": {
   "codemirror_mode": {
    "name": "ipython",
    "version": 3
   },
   "file_extension": ".py",
   "mimetype": "text/x-python",
   "name": "python",
   "nbconvert_exporter": "python",
   "pygments_lexer": "ipython3",
   "version": "3.6.9"
  }
 },
 "nbformat": 4,
 "nbformat_minor": 2
}
